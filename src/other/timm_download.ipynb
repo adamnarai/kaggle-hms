{
 "cells": [
  {
   "cell_type": "code",
   "execution_count": 3,
   "metadata": {},
   "outputs": [
    {
     "name": "stdout",
     "output_type": "stream",
     "text": [
      "~/.cache/huggingface/hub/models--timm--efficientnet_b0.ra_in1k\n"
     ]
    }
   ],
   "source": [
    "import os\n",
    "import timm\n",
    "import shutil\n",
    "\n",
    "model_name = 'efficientnet_b0.ra_in1k'\n",
    "\n",
    "# Paths\n",
    "root = '/media/latlab/MR/projects/kaggle-hms'\n",
    "data_dir = os.path.join(root, 'data')\n",
    "results_dir = os.path.join(root, 'results')\n",
    "model_dir = os.path.join(results_dir, 'pretrained_models')\n",
    "os.makedirs(model_dir, exist_ok=True)\n",
    "\n",
    "model = timm.create_model(model_name, pretrained=True)\n",
    "path = os.path.join('~/.cache/huggingface/hub/', 'models--timm--' + model_name)\n",
    "print(path)\n",
    "! cp -r $path $model_dir"
   ]
  }
 ],
 "metadata": {
  "kernelspec": {
   "display_name": "hms",
   "language": "python",
   "name": "python3"
  },
  "language_info": {
   "codemirror_mode": {
    "name": "ipython",
    "version": 3
   },
   "file_extension": ".py",
   "mimetype": "text/x-python",
   "name": "python",
   "nbconvert_exporter": "python",
   "pygments_lexer": "ipython3",
   "version": "3.12.2"
  }
 },
 "nbformat": 4,
 "nbformat_minor": 2
}
