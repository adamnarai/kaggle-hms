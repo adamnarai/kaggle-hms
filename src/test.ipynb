{
 "cells": [
  {
   "cell_type": "code",
   "execution_count": null,
   "metadata": {},
   "outputs": [],
   "source": [
    "import os\n",
    "import pandas as pd\n",
    "import numpy as np\n",
    "from timm import create_model\n",
    "from utils import seed_everything\n",
    "import matplotlib.pyplot as plt\n",
    "\n",
    "import torch\n",
    "import torch.nn.functional as F\n",
    "\n",
    "# Paths\n",
    "root = '/media/latlab/MR/projects/kaggle-hms'\n",
    "data_dir = os.path.join(root, 'data')\n",
    "results_dir = os.path.join(root, 'results')\n",
    "train_eeg_dir = os.path.join(data_dir, 'train_eegs')\n",
    "train_spectrogram_dir = os.path.join(data_dir, 'train_spectrograms')\n",
    "\n",
    "# Seed\n",
    "seed_everything(42)\n",
    "\n",
    "# Load data\n",
    "df = pd.read_csv(os.path.join(data_dir, 'train.csv'))\n",
    "spec_data = np.load(os.path.join(data_dir, 'spec_data.npy'), allow_pickle=True).item()"
   ]
  },
  {
   "cell_type": "code",
   "execution_count": null,
   "metadata": {},
   "outputs": [],
   "source": [
    "from model.metric import kl_divergence\n",
    "from ext.kaggle_kl_div.kaggle_kl_div import score\n",
    "a = pd.DataFrame(np.array([[0.8, 0.0, 0.2, 0.0], [0.8, 0.0, 0.2, 0.0]]))\n",
    "a['id'] = np.arange(len(a))\n",
    "b = pd.DataFrame(np.array([[0.2, 0.0, 0.8, 0.0], [0.99, 0.01, 0.0, 0.0]]))\n",
    "b['id'] = np.arange(len(b))\n",
    "print(score(a, b, row_id_column_name=None))\n",
    "print(kl_divergence(a, b))"
   ]
  },
  {
   "cell_type": "code",
   "execution_count": null,
   "metadata": {},
   "outputs": [],
   "source": [
    "img_orig = spec_data[353733][:300,:]\n",
    "img_orig.shape"
   ]
  },
  {
   "cell_type": "code",
   "execution_count": null,
   "metadata": {},
   "outputs": [],
   "source": [
    "X = np.zeros((1,128,256,8),dtype='float32')\n",
    "for k in range(4):\n",
    "    img = img_orig[:, k*100:(k+1)*100].T\n",
    "\n",
    "    # LOG TRANSFORM SPECTROGRAM\n",
    "    img = np.clip(img,np.exp(-4),np.exp(8))\n",
    "    img = np.log(img)\n",
    "\n",
    "    # STANDARDIZE PER IMAGE\n",
    "    ep = 1e-6\n",
    "    m = np.nanmean(img.flatten())\n",
    "    s = np.nanstd(img.flatten())\n",
    "    img = (img-m)/(s+ep)\n",
    "    img = np.nan_to_num(img, nan=0.0)\n",
    "\n",
    "    # CROP TO 256 TIME STEPS\n",
    "    X[0, 14:-14,:,k] = img[:,22:-22] / 2.0\n",
    "plt.imshow(X[0,:,:,0])"
   ]
  },
  {
   "cell_type": "code",
   "execution_count": null,
   "metadata": {},
   "outputs": [],
   "source": [
    "img = img_orig.T\n",
    "\n",
    "# LOG TRANSFORM SPECTROGRAM\n",
    "img = np.clip(img,np.exp(-4),np.exp(8))\n",
    "img = np.log(img)\n",
    "\n",
    "# STANDARDIZE PER IMAGE\n",
    "ep = 1e-6\n",
    "m = np.nanmean(img.flatten())\n",
    "s = np.nanstd(img.flatten())\n",
    "img = (img-m)/(s+ep)\n",
    "img = np.nan_to_num(img, nan=0.0)\n",
    "    \n",
    "plt.imshow(img)"
   ]
  },
  {
   "cell_type": "code",
   "execution_count": null,
   "metadata": {},
   "outputs": [],
   "source": [
    "# img = torch.from_numpy(img)\n",
    "torch.stack([img, img, img], dim=1).shape"
   ]
  },
  {
   "cell_type": "code",
   "execution_count": null,
   "metadata": {},
   "outputs": [],
   "source": [
    "x1 = [torch.tensor(X[:,:,:,i:i+1]) for i in range(4)]\n",
    "plt.imshow(torch.cat(x1, dim=1).numpy()[0,:,:,0])"
   ]
  }
 ],
 "metadata": {
  "kernelspec": {
   "display_name": "hms",
   "language": "python",
   "name": "python3"
  },
  "language_info": {
   "codemirror_mode": {
    "name": "ipython",
    "version": 3
   },
   "file_extension": ".py",
   "mimetype": "text/x-python",
   "name": "python",
   "nbconvert_exporter": "python",
   "pygments_lexer": "ipython3",
   "version": "3.11.7"
  }
 },
 "nbformat": 4,
 "nbformat_minor": 2
}
