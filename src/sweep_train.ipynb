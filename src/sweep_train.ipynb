{
 "cells": [
  {
   "cell_type": "code",
   "execution_count": 1,
   "metadata": {},
   "outputs": [
    {
     "name": "stdout",
     "output_type": "stream",
     "text": [
      "##########################\n",
      "Training with                                 epochs 3,                                 scheduler StepLR,                                 base_model: efficientnet_b0,                                 spec_random_trial_num: 1                                 coarse_dropout_args: {'p': 0.0, 'max_holes': 8, 'max_height': 64, 'max_width': 64}                                 \n",
      "##########################\n",
      "\n"
     ]
    },
    {
     "name": "stderr",
     "output_type": "stream",
     "text": [
      "Failed to detect the name of this notebook, you can set it manually with the WANDB_NOTEBOOK_NAME environment variable to enable code saving.\n",
      "\u001b[34m\u001b[1mwandb\u001b[0m: Currently logged in as: \u001b[33mnaraiadam88\u001b[0m. Use \u001b[1m`wandb login --relogin`\u001b[0m to force relogin\n",
      "\u001b[34m\u001b[1mwandb\u001b[0m: \u001b[33mWARNING\u001b[0m If you're specifying your api key in code, ensure this code is not shared publicly.\n",
      "\u001b[34m\u001b[1mwandb\u001b[0m: \u001b[33mWARNING\u001b[0m Consider setting the WANDB_API_KEY environment variable, or running `wandb login` from the command line.\n",
      "\u001b[34m\u001b[1mwandb\u001b[0m: Appending key for api.wandb.ai to your netrc file: /home/latlab/.netrc\n"
     ]
    },
    {
     "data": {
      "text/html": [
       "wandb version 0.16.3 is available!  To upgrade, please run:\n",
       " $ pip install wandb --upgrade"
      ],
      "text/plain": [
       "<IPython.core.display.HTML object>"
      ]
     },
     "metadata": {},
     "output_type": "display_data"
    },
    {
     "data": {
      "text/html": [
       "Tracking run with wandb version 0.16.2"
      ],
      "text/plain": [
       "<IPython.core.display.HTML object>"
      ]
     },
     "metadata": {},
     "output_type": "display_data"
    },
    {
     "data": {
      "text/html": [
       "Run data is saved locally in <code>/media/latlab/MR/projects/kaggle-hms/src/wandb/run-20240207_000815-r3vk3cav</code>"
      ],
      "text/plain": [
       "<IPython.core.display.HTML object>"
      ]
     },
     "metadata": {},
     "output_type": "display_data"
    },
    {
     "data": {
      "text/html": [
       "Syncing run <strong><a href='https://wandb.ai/naraiadam88/kaggle-hms/runs/r3vk3cav' target=\"_blank\">dauntless-violet-165</a></strong> to <a href='https://wandb.ai/naraiadam88/kaggle-hms' target=\"_blank\">Weights & Biases</a> (<a href='https://wandb.me/run' target=\"_blank\">docs</a>)<br/>"
      ],
      "text/plain": [
       "<IPython.core.display.HTML object>"
      ]
     },
     "metadata": {},
     "output_type": "display_data"
    },
    {
     "data": {
      "text/html": [
       " View project at <a href='https://wandb.ai/naraiadam88/kaggle-hms' target=\"_blank\">https://wandb.ai/naraiadam88/kaggle-hms</a>"
      ],
      "text/plain": [
       "<IPython.core.display.HTML object>"
      ]
     },
     "metadata": {},
     "output_type": "display_data"
    },
    {
     "data": {
      "text/html": [
       " View run at <a href='https://wandb.ai/naraiadam88/kaggle-hms/runs/r3vk3cav' target=\"_blank\">https://wandb.ai/naraiadam88/kaggle-hms/runs/r3vk3cav</a>"
      ],
      "text/plain": [
       "<IPython.core.display.HTML object>"
      ]
     },
     "metadata": {},
     "output_type": "display_data"
    },
    {
     "name": "stdout",
     "output_type": "stream",
     "text": [
      "Cross-validation fold 1/5\n",
      "Epoch 1/3\n",
      "----------\n"
     ]
    },
    {
     "name": "stderr",
     "output_type": "stream",
     "text": [
      "100%|██████████| 430/430 [01:39<00:00,  4.32it/s]\n",
      "100%|██████████| 105/105 [00:19<00:00,  5.40it/s]\n"
     ]
    },
    {
     "name": "stdout",
     "output_type": "stream",
     "text": [
      "New best kl_divergence: 0.7257\n",
      "Saving model to /media/latlab/MR/projects/kaggle-hms/results/models/ubc-ocean-dauntless-violet-165-cv1.pt\n",
      "lr: [0.001]\n",
      "train loss: 0.7994, test loss: 0.7295, kl_divergence: 0.7257\n",
      "\n",
      "Epoch 2/3\n",
      "----------\n"
     ]
    },
    {
     "name": "stderr",
     "output_type": "stream",
     "text": [
      "100%|██████████| 430/430 [01:39<00:00,  4.31it/s]\n",
      "100%|██████████| 105/105 [00:19<00:00,  5.41it/s]\n"
     ]
    },
    {
     "name": "stdout",
     "output_type": "stream",
     "text": [
      "New best kl_divergence: 0.6841\n",
      "Saving model to /media/latlab/MR/projects/kaggle-hms/results/models/ubc-ocean-dauntless-violet-165-cv1.pt\n",
      "lr: [0.0001]\n",
      "train loss: 0.5467, test loss: 0.6916, kl_divergence: 0.6841\n",
      "\n",
      "Epoch 3/3\n",
      "----------\n"
     ]
    },
    {
     "name": "stderr",
     "output_type": "stream",
     "text": [
      "100%|██████████| 430/430 [01:39<00:00,  4.30it/s]\n",
      "100%|██████████| 105/105 [00:19<00:00,  5.40it/s]\n"
     ]
    },
    {
     "name": "stdout",
     "output_type": "stream",
     "text": [
      "New best kl_divergence: 0.6236\n",
      "Saving model to /media/latlab/MR/projects/kaggle-hms/results/models/ubc-ocean-dauntless-violet-165-cv1.pt\n",
      "lr: [0.0001]\n",
      "train loss: 0.3512, test loss: 0.6249, kl_divergence: 0.6236\n",
      "\n",
      "Training complete in 5m 58s\n",
      "Final kl_divergence: 0.623627\n",
      "\n",
      "Cross-validation fold 2/5\n",
      "Epoch 1/3\n",
      "----------\n"
     ]
    },
    {
     "name": "stderr",
     "output_type": "stream",
     "text": [
      "100%|██████████| 411/411 [01:35<00:00,  4.29it/s]\n",
      "100%|██████████| 124/124 [00:22<00:00,  5.44it/s]\n"
     ]
    },
    {
     "name": "stdout",
     "output_type": "stream",
     "text": [
      "New best kl_divergence: 0.7704\n",
      "Saving model to /media/latlab/MR/projects/kaggle-hms/results/models/ubc-ocean-dauntless-violet-165-cv2.pt\n",
      "lr: [0.001]\n",
      "train loss: 0.7800, test loss: 0.7732, kl_divergence: 0.7704\n",
      "\n",
      "Epoch 2/3\n",
      "----------\n"
     ]
    },
    {
     "name": "stderr",
     "output_type": "stream",
     "text": [
      "100%|██████████| 411/411 [01:35<00:00,  4.30it/s]\n",
      "100%|██████████| 124/124 [00:22<00:00,  5.45it/s]\n"
     ]
    },
    {
     "name": "stdout",
     "output_type": "stream",
     "text": [
      "New best kl_divergence: 0.6268\n",
      "Saving model to /media/latlab/MR/projects/kaggle-hms/results/models/ubc-ocean-dauntless-violet-165-cv2.pt\n",
      "lr: [0.0001]\n",
      "train loss: 0.5573, test loss: 0.6274, kl_divergence: 0.6268\n",
      "\n",
      "Epoch 3/3\n",
      "----------\n"
     ]
    },
    {
     "name": "stderr",
     "output_type": "stream",
     "text": [
      "100%|██████████| 411/411 [01:35<00:00,  4.29it/s]\n",
      "100%|██████████| 124/124 [00:22<00:00,  5.45it/s]\n"
     ]
    },
    {
     "name": "stdout",
     "output_type": "stream",
     "text": [
      "New best kl_divergence: 0.5844\n",
      "Saving model to /media/latlab/MR/projects/kaggle-hms/results/models/ubc-ocean-dauntless-violet-165-cv2.pt\n",
      "lr: [0.0001]\n",
      "train loss: 0.3724, test loss: 0.5862, kl_divergence: 0.5844\n",
      "\n",
      "Training complete in 5m 56s\n",
      "Final kl_divergence: 0.584422\n",
      "\n",
      "Cross-validation fold 3/5\n",
      "Epoch 1/3\n",
      "----------\n"
     ]
    },
    {
     "name": "stderr",
     "output_type": "stream",
     "text": [
      "100%|██████████| 420/420 [01:37<00:00,  4.29it/s]\n",
      "100%|██████████| 115/115 [00:21<00:00,  5.30it/s]\n"
     ]
    },
    {
     "name": "stdout",
     "output_type": "stream",
     "text": [
      "New best kl_divergence: 0.7400\n",
      "Saving model to /media/latlab/MR/projects/kaggle-hms/results/models/ubc-ocean-dauntless-violet-165-cv3.pt\n",
      "lr: [0.001]\n",
      "train loss: 0.7949, test loss: 0.7402, kl_divergence: 0.7400\n",
      "\n",
      "Epoch 2/3\n",
      "----------\n"
     ]
    },
    {
     "name": "stderr",
     "output_type": "stream",
     "text": [
      "100%|██████████| 420/420 [01:37<00:00,  4.30it/s]\n",
      "100%|██████████| 115/115 [00:21<00:00,  5.34it/s]\n"
     ]
    },
    {
     "name": "stdout",
     "output_type": "stream",
     "text": [
      "New best kl_divergence: 0.6907\n",
      "Saving model to /media/latlab/MR/projects/kaggle-hms/results/models/ubc-ocean-dauntless-violet-165-cv3.pt\n",
      "lr: [0.0001]\n",
      "train loss: 0.5551, test loss: 0.6909, kl_divergence: 0.6907\n",
      "\n",
      "Epoch 3/3\n",
      "----------\n"
     ]
    },
    {
     "name": "stderr",
     "output_type": "stream",
     "text": [
      "100%|██████████| 420/420 [01:37<00:00,  4.30it/s]\n",
      "100%|██████████| 115/115 [00:21<00:00,  5.34it/s]\n"
     ]
    },
    {
     "name": "stdout",
     "output_type": "stream",
     "text": [
      "New best kl_divergence: 0.6888\n",
      "Saving model to /media/latlab/MR/projects/kaggle-hms/results/models/ubc-ocean-dauntless-violet-165-cv3.pt\n",
      "lr: [0.0001]\n",
      "train loss: 0.3665, test loss: 0.6891, kl_divergence: 0.6888\n",
      "\n",
      "Training complete in 5m 58s\n",
      "Final kl_divergence: 0.688835\n",
      "\n",
      "Cross-validation fold 4/5\n",
      "Epoch 1/3\n",
      "----------\n"
     ]
    },
    {
     "name": "stderr",
     "output_type": "stream",
     "text": [
      "100%|██████████| 449/449 [01:44<00:00,  4.30it/s]\n",
      "100%|██████████| 86/86 [00:16<00:00,  5.08it/s]\n"
     ]
    },
    {
     "name": "stdout",
     "output_type": "stream",
     "text": [
      "New best kl_divergence: 0.7126\n",
      "Saving model to /media/latlab/MR/projects/kaggle-hms/results/models/ubc-ocean-dauntless-violet-165-cv4.pt\n",
      "lr: [0.001]\n",
      "train loss: 0.7852, test loss: 0.7131, kl_divergence: 0.7126\n",
      "\n",
      "Epoch 2/3\n",
      "----------\n"
     ]
    },
    {
     "name": "stderr",
     "output_type": "stream",
     "text": [
      "100%|██████████| 449/449 [01:44<00:00,  4.31it/s]\n",
      "100%|██████████| 86/86 [00:17<00:00,  5.04it/s]\n"
     ]
    },
    {
     "name": "stdout",
     "output_type": "stream",
     "text": [
      "New best kl_divergence: 0.6598\n",
      "Saving model to /media/latlab/MR/projects/kaggle-hms/results/models/ubc-ocean-dauntless-violet-165-cv4.pt\n",
      "lr: [0.0001]\n",
      "train loss: 0.5446, test loss: 0.6608, kl_divergence: 0.6598\n",
      "\n",
      "Epoch 3/3\n",
      "----------\n"
     ]
    },
    {
     "name": "stderr",
     "output_type": "stream",
     "text": [
      "100%|██████████| 449/449 [01:44<00:00,  4.31it/s]\n",
      "100%|██████████| 86/86 [00:17<00:00,  5.06it/s]\n"
     ]
    },
    {
     "name": "stdout",
     "output_type": "stream",
     "text": [
      "New best kl_divergence: 0.6165\n",
      "Saving model to /media/latlab/MR/projects/kaggle-hms/results/models/ubc-ocean-dauntless-violet-165-cv4.pt\n",
      "lr: [0.0001]\n",
      "train loss: 0.3578, test loss: 0.6190, kl_divergence: 0.6165\n",
      "\n",
      "Training complete in 6m 4s\n",
      "Final kl_divergence: 0.616523\n",
      "\n",
      "Cross-validation fold 5/5\n",
      "Epoch 1/3\n",
      "----------\n"
     ]
    },
    {
     "name": "stderr",
     "output_type": "stream",
     "text": [
      "100%|██████████| 428/428 [01:39<00:00,  4.30it/s]\n",
      "100%|██████████| 107/107 [00:20<00:00,  5.27it/s]\n"
     ]
    },
    {
     "name": "stdout",
     "output_type": "stream",
     "text": [
      "New best kl_divergence: 0.8617\n",
      "Saving model to /media/latlab/MR/projects/kaggle-hms/results/models/ubc-ocean-dauntless-violet-165-cv5.pt\n",
      "lr: [0.001]\n",
      "train loss: 0.7950, test loss: 0.8611, kl_divergence: 0.8617\n",
      "\n",
      "Epoch 2/3\n",
      "----------\n"
     ]
    },
    {
     "name": "stderr",
     "output_type": "stream",
     "text": [
      "100%|██████████| 428/428 [01:39<00:00,  4.30it/s]\n",
      "100%|██████████| 107/107 [00:20<00:00,  5.25it/s]\n"
     ]
    },
    {
     "name": "stdout",
     "output_type": "stream",
     "text": [
      "New best kl_divergence: 0.8003\n",
      "Saving model to /media/latlab/MR/projects/kaggle-hms/results/models/ubc-ocean-dauntless-violet-165-cv5.pt\n",
      "lr: [0.0001]\n",
      "train loss: 0.5427, test loss: 0.8000, kl_divergence: 0.8003\n",
      "\n",
      "Epoch 3/3\n",
      "----------\n"
     ]
    },
    {
     "name": "stderr",
     "output_type": "stream",
     "text": [
      "100%|██████████| 428/428 [01:39<00:00,  4.30it/s]\n",
      "100%|██████████| 107/107 [00:20<00:00,  5.25it/s]\n"
     ]
    },
    {
     "name": "stdout",
     "output_type": "stream",
     "text": [
      "New best kl_divergence: 0.6868\n",
      "Saving model to /media/latlab/MR/projects/kaggle-hms/results/models/ubc-ocean-dauntless-violet-165-cv5.pt\n",
      "lr: [0.0001]\n",
      "train loss: 0.3446, test loss: 0.6866, kl_divergence: 0.6868\n",
      "\n",
      "Training complete in 6m 0s\n",
      "Final kl_divergence: 0.686795\n",
      "\n"
     ]
    },
    {
     "name": "stderr",
     "output_type": "stream",
     "text": [
      "wandb: WARNING Source type is set to 'repo' but some required information is missing from the environment. A job will not be created from this run. See https://docs.wandb.ai/guides/launch/create-job\n"
     ]
    },
    {
     "data": {
      "application/vnd.jupyter.widget-view+json": {
       "model_id": "5e5cf79fe2114a428aeb5db02eed26f0",
       "version_major": 2,
       "version_minor": 0
      },
      "text/plain": [
       "VBox(children=(Label(value='0.005 MB of 0.005 MB uploaded\\r'), FloatProgress(value=1.0, max=1.0)))"
      ]
     },
     "metadata": {},
     "output_type": "display_data"
    },
    {
     "data": {
      "text/html": [
       "<style>\n",
       "    table.wandb td:nth-child(1) { padding: 0 10px; text-align: left ; width: auto;} td:nth-child(2) {text-align: left ; width: 100%}\n",
       "    .wandb-row { display: flex; flex-direction: row; flex-wrap: wrap; justify-content: flex-start; width: 100% }\n",
       "    .wandb-col { display: flex; flex-direction: column; flex-basis: 100%; flex: 1; padding: 10px; }\n",
       "    </style>\n",
       "<div class=\"wandb-row\"><div class=\"wandb-col\"><h3>Run history:</h3><br/><table class=\"wandb\"><tr><td>kl_div_cv1</td><td>▁</td></tr><tr><td>kl_div_cv2</td><td>▁</td></tr><tr><td>kl_div_cv3</td><td>▁</td></tr><tr><td>kl_div_cv4</td><td>▁</td></tr><tr><td>kl_div_cv5</td><td>▁</td></tr><tr><td>kl_divergence</td><td>█▅▁</td></tr><tr><td>mean_kl_div</td><td>▁</td></tr><tr><td>train_loss</td><td>█▄▁</td></tr><tr><td>valid_loss</td><td>█▅▁</td></tr></table><br/></div><div class=\"wandb-col\"><h3>Run summary:</h3><br/><table class=\"wandb\"><tr><td>kl_div_cv1</td><td>0.62363</td></tr><tr><td>kl_div_cv2</td><td>0.58442</td></tr><tr><td>kl_div_cv3</td><td>0.68884</td></tr><tr><td>kl_div_cv4</td><td>0.61652</td></tr><tr><td>kl_div_cv5</td><td>0.68679</td></tr><tr><td>kl_divergence</td><td>0.62363</td></tr><tr><td>mean_kl_div</td><td>0.64004</td></tr><tr><td>train_loss</td><td>0.35122</td></tr><tr><td>valid_loss</td><td>0.62495</td></tr></table><br/></div></div>"
      ],
      "text/plain": [
       "<IPython.core.display.HTML object>"
      ]
     },
     "metadata": {},
     "output_type": "display_data"
    },
    {
     "data": {
      "text/html": [
       " View run <strong style=\"color:#cdcd00\">dauntless-violet-165</strong> at: <a href='https://wandb.ai/naraiadam88/kaggle-hms/runs/r3vk3cav' target=\"_blank\">https://wandb.ai/naraiadam88/kaggle-hms/runs/r3vk3cav</a><br/>Synced 6 W&B file(s), 0 media file(s), 0 artifact file(s) and 0 other file(s)"
      ],
      "text/plain": [
       "<IPython.core.display.HTML object>"
      ]
     },
     "metadata": {},
     "output_type": "display_data"
    },
    {
     "data": {
      "text/html": [
       "Find logs at: <code>./wandb/run-20240207_000815-r3vk3cav/logs</code>"
      ],
      "text/plain": [
       "<IPython.core.display.HTML object>"
      ]
     },
     "metadata": {},
     "output_type": "display_data"
    },
    {
     "name": "stderr",
     "output_type": "stream",
     "text": [
      "\u001b[34m\u001b[1mwandb\u001b[0m: \u001b[33mWARNING\u001b[0m If you're specifying your api key in code, ensure this code is not shared publicly.\n",
      "\u001b[34m\u001b[1mwandb\u001b[0m: \u001b[33mWARNING\u001b[0m Consider setting the WANDB_API_KEY environment variable, or running `wandb login` from the command line.\n",
      "\u001b[34m\u001b[1mwandb\u001b[0m: Appending key for api.wandb.ai to your netrc file: /home/latlab/.netrc\n"
     ]
    },
    {
     "name": "stdout",
     "output_type": "stream",
     "text": [
      "##########################\n",
      "Training with                                 epochs 3,                                 scheduler StepLR,                                 base_model: efficientnet_b0,                                 spec_random_trial_num: 1                                 coarse_dropout_args: {'p': 0.0, 'max_holes': 8, 'max_height': 64, 'max_width': 64}                                 \n",
      "##########################\n",
      "\n"
     ]
    },
    {
     "data": {
      "text/html": [
       "wandb version 0.16.3 is available!  To upgrade, please run:\n",
       " $ pip install wandb --upgrade"
      ],
      "text/plain": [
       "<IPython.core.display.HTML object>"
      ]
     },
     "metadata": {},
     "output_type": "display_data"
    },
    {
     "data": {
      "text/html": [
       "Tracking run with wandb version 0.16.2"
      ],
      "text/plain": [
       "<IPython.core.display.HTML object>"
      ]
     },
     "metadata": {},
     "output_type": "display_data"
    },
    {
     "data": {
      "text/html": [
       "Run data is saved locally in <code>/media/latlab/MR/projects/kaggle-hms/src/wandb/run-20240207_003839-gu6yhylh</code>"
      ],
      "text/plain": [
       "<IPython.core.display.HTML object>"
      ]
     },
     "metadata": {},
     "output_type": "display_data"
    },
    {
     "data": {
      "text/html": [
       "Syncing run <strong><a href='https://wandb.ai/naraiadam88/kaggle-hms/runs/gu6yhylh' target=\"_blank\">rare-durian-166</a></strong> to <a href='https://wandb.ai/naraiadam88/kaggle-hms' target=\"_blank\">Weights & Biases</a> (<a href='https://wandb.me/run' target=\"_blank\">docs</a>)<br/>"
      ],
      "text/plain": [
       "<IPython.core.display.HTML object>"
      ]
     },
     "metadata": {},
     "output_type": "display_data"
    },
    {
     "data": {
      "text/html": [
       " View project at <a href='https://wandb.ai/naraiadam88/kaggle-hms' target=\"_blank\">https://wandb.ai/naraiadam88/kaggle-hms</a>"
      ],
      "text/plain": [
       "<IPython.core.display.HTML object>"
      ]
     },
     "metadata": {},
     "output_type": "display_data"
    },
    {
     "data": {
      "text/html": [
       " View run at <a href='https://wandb.ai/naraiadam88/kaggle-hms/runs/gu6yhylh' target=\"_blank\">https://wandb.ai/naraiadam88/kaggle-hms/runs/gu6yhylh</a>"
      ],
      "text/plain": [
       "<IPython.core.display.HTML object>"
      ]
     },
     "metadata": {},
     "output_type": "display_data"
    },
    {
     "name": "stdout",
     "output_type": "stream",
     "text": [
      "Cross-validation fold 1/5\n",
      "Epoch 1/3\n",
      "----------\n"
     ]
    },
    {
     "name": "stderr",
     "output_type": "stream",
     "text": [
      "100%|██████████| 430/430 [01:44<00:00,  4.12it/s]\n",
      "100%|██████████| 105/105 [00:09<00:00, 10.59it/s]\n"
     ]
    },
    {
     "name": "stdout",
     "output_type": "stream",
     "text": [
      "New best kl_divergence: 0.8024\n",
      "Saving model to /media/latlab/MR/projects/kaggle-hms/results/models/ubc-ocean-rare-durian-166-cv1.pt\n",
      "lr: [0.001]\n",
      "train loss: 0.8551, test loss: 0.8046, kl_divergence: 0.8024\n",
      "\n",
      "Epoch 2/3\n",
      "----------\n"
     ]
    },
    {
     "name": "stderr",
     "output_type": "stream",
     "text": [
      "100%|██████████| 430/430 [01:44<00:00,  4.13it/s]\n",
      "100%|██████████| 105/105 [00:09<00:00, 10.73it/s]\n"
     ]
    },
    {
     "name": "stdout",
     "output_type": "stream",
     "text": [
      "New best kl_divergence: 0.7420\n",
      "Saving model to /media/latlab/MR/projects/kaggle-hms/results/models/ubc-ocean-rare-durian-166-cv1.pt\n",
      "lr: [0.0001]\n",
      "train loss: 0.5465, test loss: 0.7419, kl_divergence: 0.7420\n",
      "\n",
      "Epoch 3/3\n",
      "----------\n"
     ]
    },
    {
     "name": "stderr",
     "output_type": "stream",
     "text": [
      "100%|██████████| 430/430 [01:43<00:00,  4.14it/s]\n",
      "100%|██████████| 105/105 [00:09<00:00, 10.72it/s]\n"
     ]
    },
    {
     "name": "stdout",
     "output_type": "stream",
     "text": [
      "New best kl_divergence: 0.6636\n",
      "Saving model to /media/latlab/MR/projects/kaggle-hms/results/models/ubc-ocean-rare-durian-166-cv1.pt\n",
      "lr: [0.0001]\n",
      "train loss: 0.3530, test loss: 0.6649, kl_divergence: 0.6636\n",
      "\n",
      "Training complete in 5m 42s\n",
      "Final kl_divergence: 0.663610\n",
      "\n",
      "Cross-validation fold 2/5\n",
      "Epoch 1/3\n",
      "----------\n"
     ]
    },
    {
     "name": "stderr",
     "output_type": "stream",
     "text": [
      " 34%|███▍      | 140/411 [00:35<01:03,  4.28it/s]"
     ]
    }
   ],
   "source": [
    "from train import train\n",
    "from utils import Config\n",
    "\n",
    "class CFG(Config):\n",
    "    seed = 42\n",
    "    cv_fold = 5\n",
    "    base_model = 'efficientnet_b0'   # resnet18/34/50, efficientnet_b0/b1/b2/b3/b4, efficientnet_v2_s, convnext_tiny, swin_t\n",
    "    batch_size = 32\n",
    "    epochs = 4\n",
    "    base_lr = 1e-3\n",
    "    affine_degrees = 0\n",
    "    affine_translate = None\n",
    "    affine_scale = None\n",
    "    dataloader_num_workers = 8\n",
    "    scheduler_step_size = 2\n",
    "    optimizer = 'AdamW'\n",
    "    scheduler = 'StepLR'\n",
    "    loss = 'KLDivLoss'\n",
    "    lr_gamma = 0.1\n",
    "    sgd_momentum = 0.9\n",
    "    color_jitter_args = dict(p=0.0, brightness=0.2, contrast=0.2, saturation=0.2, hue=0.2)\n",
    "    random_erasing_p = 0\n",
    "    freeze_epochs = 0\n",
    "    spec_trial_selection = 'all' # 'all', 'first', 'mean_offset'\n",
    "    eeg_trial_selection = 'first'\n",
    "    spec_random_trial_num = 1\n",
    "    TARGETS = ['seizure_vote', 'lpd_vote', 'gpd_vote', 'lrda_vote', 'grda_vote', 'other_vote']\n",
    "    coarse_dropout_args = dict(p=0.0, max_holes=8, max_height=64, max_width=64)\n",
    "    data_type = 'spec+eeg_tf'  # 'spec', 'eeg_tf', 'spec+eeg_tf\n",
    "\n",
    "    if data_type == 'spec':\n",
    "        in_channels = 1\n",
    "    elif data_type == 'eeg_tf':\n",
    "        in_channels = 1\n",
    "    elif data_type == 'spec+eeg_tf':\n",
    "        in_channels = 2\n",
    "\n",
    "tags=['torch', 'cv', 'best_epoch']\n",
    "notes = ''\n",
    "train_final_model = False\n",
    "use_wandb = True\n",
    "one_fold = False\n",
    "\n",
    "\n",
    "for scheduler in ['StepLR', 'CosineAnnealingLR']:\n",
    "    CFG.scheduler = scheduler\n",
    "    for epochs in [3, 4]:\n",
    "        CFG.epochs = epochs\n",
    "        for base_model in ['efficientnet_b0', 'resnet34']:\n",
    "            CFG.base_model = base_model\n",
    "            for spec_random_trial_num in [1]:\n",
    "                CFG.spec_random_trial_num = spec_random_trial_num\n",
    "                for coarse_dropout_args in [dict(p=0.0, max_holes=8, max_height=64, max_width=64)]:#, dict(p=0.5, max_holes=8, max_height=64, max_width=64)]:\n",
    "                    CFG.coarse_dropout_args = coarse_dropout_args\n",
    "                    for batch_size in [32]:\n",
    "                        CFG.batch_size = batch_size\n",
    "                        for data_type in ['spec+eeg_tf', 'eeg_tf']:\n",
    "                            CFG.data_type = data_type\n",
    "                            if data_type == 'spec':\n",
    "                                CFG.in_channels = 1\n",
    "                            elif data_type == 'eeg_tf':\n",
    "                                CFG.in_channels = 1\n",
    "                            elif data_type == 'spec+eeg_tf':\n",
    "                                CFG.in_channels = 2\n",
    "                            print(f'##########################\\nTraining with \\\n",
    "                                epochs {epochs}, \\\n",
    "                                scheduler {scheduler}, \\\n",
    "                                base_model: {base_model}, \\\n",
    "                                spec_random_trial_num: {spec_random_trial_num} \\\n",
    "                                coarse_dropout_args: {coarse_dropout_args} \\\n",
    "                                \\n##########################\\n')\n",
    "                            train(CFG, tags=tags, notes=notes, train_final_model=train_final_model, use_wandb=use_wandb, one_fold=one_fold)"
   ]
  }
 ],
 "metadata": {
  "kernelspec": {
   "display_name": "hms",
   "language": "python",
   "name": "python3"
  },
  "language_info": {
   "codemirror_mode": {
    "name": "ipython",
    "version": 3
   },
   "file_extension": ".py",
   "mimetype": "text/x-python",
   "name": "python",
   "nbconvert_exporter": "python",
   "pygments_lexer": "ipython3",
   "version": "3.11.7"
  }
 },
 "nbformat": 4,
 "nbformat_minor": 2
}
