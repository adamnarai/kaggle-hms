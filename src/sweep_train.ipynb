{
 "cells": [
  {
   "cell_type": "code",
   "execution_count": 2,
   "metadata": {},
   "outputs": [
    {
     "name": "stdout",
     "output_type": "stream",
     "text": [
      "##########################\n",
      "Training with                                         epochs 3,                                         scheduler StepLR,                                         base_model: efficientnet_b0,                                         eeg_tf_fname eeg_tf_data_globalnorm,                                         coarse_dropout_args: {'p': 0.5, 'max_holes': 8, 'max_height': 128, 'max_width': 128}                                         data_type eeg_tf,                                         \n",
      "##########################\n",
      "\n"
     ]
    },
    {
     "name": "stderr",
     "output_type": "stream",
     "text": [
      "Failed to detect the name of this notebook, you can set it manually with the WANDB_NOTEBOOK_NAME environment variable to enable code saving.\n",
      "\u001b[34m\u001b[1mwandb\u001b[0m: Currently logged in as: \u001b[33mnaraiadam88\u001b[0m. Use \u001b[1m`wandb login --relogin`\u001b[0m to force relogin\n",
      "\u001b[34m\u001b[1mwandb\u001b[0m: \u001b[33mWARNING\u001b[0m If you're specifying your api key in code, ensure this code is not shared publicly.\n",
      "\u001b[34m\u001b[1mwandb\u001b[0m: \u001b[33mWARNING\u001b[0m Consider setting the WANDB_API_KEY environment variable, or running `wandb login` from the command line.\n",
      "\u001b[34m\u001b[1mwandb\u001b[0m: Appending key for api.wandb.ai to your netrc file: /home/latlab/.netrc\n"
     ]
    },
    {
     "data": {
      "text/html": [
       "wandb version 0.16.3 is available!  To upgrade, please run:\n",
       " $ pip install wandb --upgrade"
      ],
      "text/plain": [
       "<IPython.core.display.HTML object>"
      ]
     },
     "metadata": {},
     "output_type": "display_data"
    },
    {
     "data": {
      "text/html": [
       "Tracking run with wandb version 0.16.2"
      ],
      "text/plain": [
       "<IPython.core.display.HTML object>"
      ]
     },
     "metadata": {},
     "output_type": "display_data"
    },
    {
     "data": {
      "text/html": [
       "Run data is saved locally in <code>/media/latlab/MR/projects/kaggle-hms/src/wandb/run-20240211_030506-q0ancxyg</code>"
      ],
      "text/plain": [
       "<IPython.core.display.HTML object>"
      ]
     },
     "metadata": {},
     "output_type": "display_data"
    },
    {
     "data": {
      "text/html": [
       "Syncing run <strong><a href='https://wandb.ai/naraiadam88/kaggle-hms/runs/q0ancxyg' target=\"_blank\">lunar-pig-237</a></strong> to <a href='https://wandb.ai/naraiadam88/kaggle-hms' target=\"_blank\">Weights & Biases</a> (<a href='https://wandb.me/run' target=\"_blank\">docs</a>)<br/>"
      ],
      "text/plain": [
       "<IPython.core.display.HTML object>"
      ]
     },
     "metadata": {},
     "output_type": "display_data"
    },
    {
     "data": {
      "text/html": [
       " View project at <a href='https://wandb.ai/naraiadam88/kaggle-hms' target=\"_blank\">https://wandb.ai/naraiadam88/kaggle-hms</a>"
      ],
      "text/plain": [
       "<IPython.core.display.HTML object>"
      ]
     },
     "metadata": {},
     "output_type": "display_data"
    },
    {
     "data": {
      "text/html": [
       " View run at <a href='https://wandb.ai/naraiadam88/kaggle-hms/runs/q0ancxyg' target=\"_blank\">https://wandb.ai/naraiadam88/kaggle-hms/runs/q0ancxyg</a>"
      ],
      "text/plain": [
       "<IPython.core.display.HTML object>"
      ]
     },
     "metadata": {},
     "output_type": "display_data"
    },
    {
     "name": "stdout",
     "output_type": "stream",
     "text": [
      "Cross-validation fold 1/5\n",
      "Epoch 1/3\n",
      "----------\n"
     ]
    },
    {
     "name": "stderr",
     "output_type": "stream",
     "text": [
      "100%|██████████| 430/430 [01:42<00:00,  4.21it/s]\n",
      "100%|██████████| 105/105 [00:08<00:00, 12.16it/s]\n"
     ]
    },
    {
     "name": "stdout",
     "output_type": "stream",
     "text": [
      "New best kl_divergence: 0.7395\n",
      "Saving model to /media/latlab/MR/projects/kaggle-hms/results/models/hms-lunar-pig-237/hms-lunar-pig-237-cv1.pt\n",
      "lr: [0.001]\n",
      "train loss: 0.8071, test loss: 0.7425, kl_divergence: 0.7395\n",
      "\n",
      "Epoch 2/3\n",
      "----------\n"
     ]
    },
    {
     "name": "stderr",
     "output_type": "stream",
     "text": [
      "100%|██████████| 430/430 [01:42<00:00,  4.19it/s]\n",
      "100%|██████████| 105/105 [00:08<00:00, 12.42it/s]\n"
     ]
    },
    {
     "name": "stdout",
     "output_type": "stream",
     "text": [
      "New best kl_divergence: 0.6836\n",
      "Saving model to /media/latlab/MR/projects/kaggle-hms/results/models/hms-lunar-pig-237/hms-lunar-pig-237-cv1.pt\n",
      "lr: [0.0001]\n",
      "train loss: 0.5592, test loss: 0.6834, kl_divergence: 0.6836\n",
      "\n",
      "Epoch 3/3\n",
      "----------\n"
     ]
    },
    {
     "name": "stderr",
     "output_type": "stream",
     "text": [
      "100%|██████████| 430/430 [01:42<00:00,  4.19it/s]\n",
      "100%|██████████| 105/105 [00:08<00:00, 12.27it/s]\n"
     ]
    },
    {
     "name": "stdout",
     "output_type": "stream",
     "text": [
      "New best kl_divergence: 0.5763\n",
      "Saving model to /media/latlab/MR/projects/kaggle-hms/results/models/hms-lunar-pig-237/hms-lunar-pig-237-cv1.pt\n",
      "lr: [0.0001]\n",
      "train loss: 0.4109, test loss: 0.5773, kl_divergence: 0.5763\n",
      "\n",
      "Training complete in 5m 33s\n",
      "Final kl_divergence: 0.576325\n",
      "\n",
      "Cross-validation fold 2/5\n",
      "Epoch 1/3\n",
      "----------\n"
     ]
    },
    {
     "name": "stderr",
     "output_type": "stream",
     "text": [
      "100%|██████████| 411/411 [01:38<00:00,  4.18it/s]\n",
      "100%|██████████| 124/124 [00:09<00:00, 12.64it/s]\n"
     ]
    },
    {
     "name": "stdout",
     "output_type": "stream",
     "text": [
      "New best kl_divergence: 0.7127\n",
      "Saving model to /media/latlab/MR/projects/kaggle-hms/results/models/hms-lunar-pig-237/hms-lunar-pig-237-cv2.pt\n",
      "lr: [0.001]\n",
      "train loss: 0.8195, test loss: 0.7231, kl_divergence: 0.7127\n",
      "\n",
      "Epoch 2/3\n",
      "----------\n"
     ]
    },
    {
     "name": "stderr",
     "output_type": "stream",
     "text": [
      "100%|██████████| 411/411 [01:38<00:00,  4.18it/s]\n",
      "100%|██████████| 124/124 [00:09<00:00, 12.65it/s]\n"
     ]
    },
    {
     "name": "stdout",
     "output_type": "stream",
     "text": [
      "New best kl_divergence: 0.6398\n",
      "Saving model to /media/latlab/MR/projects/kaggle-hms/results/models/hms-lunar-pig-237/hms-lunar-pig-237-cv2.pt\n",
      "lr: [0.0001]\n",
      "train loss: 0.5616, test loss: 0.6472, kl_divergence: 0.6398\n",
      "\n",
      "Epoch 3/3\n",
      "----------\n"
     ]
    },
    {
     "name": "stderr",
     "output_type": "stream",
     "text": [
      "100%|██████████| 411/411 [01:38<00:00,  4.19it/s]\n",
      "100%|██████████| 124/124 [00:09<00:00, 12.78it/s]\n"
     ]
    },
    {
     "name": "stdout",
     "output_type": "stream",
     "text": [
      "New best kl_divergence: 0.5645\n",
      "Saving model to /media/latlab/MR/projects/kaggle-hms/results/models/hms-lunar-pig-237/hms-lunar-pig-237-cv2.pt\n",
      "lr: [0.0001]\n",
      "train loss: 0.4169, test loss: 0.5691, kl_divergence: 0.5645\n",
      "\n",
      "Training complete in 5m 24s\n",
      "Final kl_divergence: 0.564462\n",
      "\n",
      "Cross-validation fold 3/5\n",
      "Epoch 1/3\n",
      "----------\n"
     ]
    },
    {
     "name": "stderr",
     "output_type": "stream",
     "text": [
      "100%|██████████| 420/420 [01:40<00:00,  4.19it/s]\n",
      "100%|██████████| 115/115 [00:09<00:00, 12.43it/s]\n"
     ]
    },
    {
     "name": "stdout",
     "output_type": "stream",
     "text": [
      "New best kl_divergence: 0.7156\n",
      "Saving model to /media/latlab/MR/projects/kaggle-hms/results/models/hms-lunar-pig-237/hms-lunar-pig-237-cv3.pt\n",
      "lr: [0.001]\n",
      "train loss: 0.7824, test loss: 0.7161, kl_divergence: 0.7156\n",
      "\n",
      "Epoch 2/3\n",
      "----------\n"
     ]
    },
    {
     "name": "stderr",
     "output_type": "stream",
     "text": [
      "100%|██████████| 420/420 [01:40<00:00,  4.19it/s]\n",
      "100%|██████████| 115/115 [00:09<00:00, 12.55it/s]\n"
     ]
    },
    {
     "name": "stdout",
     "output_type": "stream",
     "text": [
      "New best kl_divergence: 0.7115\n",
      "Saving model to /media/latlab/MR/projects/kaggle-hms/results/models/hms-lunar-pig-237/hms-lunar-pig-237-cv3.pt\n",
      "lr: [0.0001]\n",
      "train loss: 0.5711, test loss: 0.7115, kl_divergence: 0.7115\n",
      "\n",
      "Epoch 3/3\n",
      "----------\n"
     ]
    },
    {
     "name": "stderr",
     "output_type": "stream",
     "text": [
      "100%|██████████| 420/420 [01:40<00:00,  4.19it/s]\n",
      "100%|██████████| 115/115 [00:09<00:00, 12.57it/s]\n"
     ]
    },
    {
     "name": "stdout",
     "output_type": "stream",
     "text": [
      "New best kl_divergence: 0.6366\n",
      "Saving model to /media/latlab/MR/projects/kaggle-hms/results/models/hms-lunar-pig-237/hms-lunar-pig-237-cv3.pt\n",
      "lr: [0.0001]\n",
      "train loss: 0.4237, test loss: 0.6370, kl_divergence: 0.6366\n",
      "\n",
      "Training complete in 5m 29s\n",
      "Final kl_divergence: 0.636553\n",
      "\n",
      "Cross-validation fold 4/5\n",
      "Epoch 1/3\n",
      "----------\n"
     ]
    },
    {
     "name": "stderr",
     "output_type": "stream",
     "text": [
      "100%|██████████| 449/449 [01:46<00:00,  4.20it/s]\n",
      "100%|██████████| 86/86 [00:07<00:00, 11.54it/s]\n"
     ]
    },
    {
     "name": "stdout",
     "output_type": "stream",
     "text": [
      "New best kl_divergence: 0.6987\n",
      "Saving model to /media/latlab/MR/projects/kaggle-hms/results/models/hms-lunar-pig-237/hms-lunar-pig-237-cv4.pt\n",
      "lr: [0.001]\n",
      "train loss: 0.8028, test loss: 0.6982, kl_divergence: 0.6987\n",
      "\n",
      "Epoch 2/3\n",
      "----------\n"
     ]
    },
    {
     "name": "stderr",
     "output_type": "stream",
     "text": [
      "100%|██████████| 449/449 [01:46<00:00,  4.20it/s]\n",
      "100%|██████████| 86/86 [00:07<00:00, 11.61it/s]\n"
     ]
    },
    {
     "name": "stdout",
     "output_type": "stream",
     "text": [
      "New best kl_divergence: 0.6379\n",
      "Saving model to /media/latlab/MR/projects/kaggle-hms/results/models/hms-lunar-pig-237/hms-lunar-pig-237-cv4.pt\n",
      "lr: [0.0001]\n",
      "train loss: 0.5556, test loss: 0.6411, kl_divergence: 0.6379\n",
      "\n",
      "Epoch 3/3\n",
      "----------\n"
     ]
    },
    {
     "name": "stderr",
     "output_type": "stream",
     "text": [
      "100%|██████████| 449/449 [01:46<00:00,  4.20it/s]\n",
      "100%|██████████| 86/86 [00:07<00:00, 11.58it/s]\n"
     ]
    },
    {
     "name": "stdout",
     "output_type": "stream",
     "text": [
      "New best kl_divergence: 0.5956\n",
      "Saving model to /media/latlab/MR/projects/kaggle-hms/results/models/hms-lunar-pig-237/hms-lunar-pig-237-cv4.pt\n",
      "lr: [0.0001]\n",
      "train loss: 0.4070, test loss: 0.5963, kl_divergence: 0.5956\n",
      "\n",
      "Training complete in 5m 43s\n",
      "Final kl_divergence: 0.595611\n",
      "\n",
      "Cross-validation fold 5/5\n",
      "Epoch 1/3\n",
      "----------\n"
     ]
    },
    {
     "name": "stderr",
     "output_type": "stream",
     "text": [
      "100%|██████████| 428/428 [01:42<00:00,  4.19it/s]\n",
      "100%|██████████| 107/107 [00:08<00:00, 12.19it/s]\n"
     ]
    },
    {
     "name": "stdout",
     "output_type": "stream",
     "text": [
      "New best kl_divergence: 0.7563\n",
      "Saving model to /media/latlab/MR/projects/kaggle-hms/results/models/hms-lunar-pig-237/hms-lunar-pig-237-cv5.pt\n",
      "lr: [0.001]\n",
      "train loss: 0.7777, test loss: 0.7562, kl_divergence: 0.7563\n",
      "\n",
      "Epoch 2/3\n",
      "----------\n"
     ]
    },
    {
     "name": "stderr",
     "output_type": "stream",
     "text": [
      "100%|██████████| 428/428 [01:41<00:00,  4.20it/s]\n",
      "100%|██████████| 107/107 [00:08<00:00, 12.33it/s]\n"
     ]
    },
    {
     "name": "stdout",
     "output_type": "stream",
     "text": [
      "New best kl_divergence: 0.7272\n",
      "Saving model to /media/latlab/MR/projects/kaggle-hms/results/models/hms-lunar-pig-237/hms-lunar-pig-237-cv5.pt\n",
      "lr: [0.0001]\n",
      "train loss: 0.5510, test loss: 0.7273, kl_divergence: 0.7272\n",
      "\n",
      "Epoch 3/3\n",
      "----------\n"
     ]
    },
    {
     "name": "stderr",
     "output_type": "stream",
     "text": [
      "100%|██████████| 428/428 [01:41<00:00,  4.20it/s]\n",
      "100%|██████████| 107/107 [00:08<00:00, 12.21it/s]\n"
     ]
    },
    {
     "name": "stdout",
     "output_type": "stream",
     "text": [
      "New best kl_divergence: 0.6195\n",
      "Saving model to /media/latlab/MR/projects/kaggle-hms/results/models/hms-lunar-pig-237/hms-lunar-pig-237-cv5.pt\n",
      "lr: [0.0001]\n",
      "train loss: 0.4106, test loss: 0.6196, kl_divergence: 0.6195\n",
      "\n",
      "Training complete in 5m 33s\n",
      "Final kl_divergence: 0.619457\n",
      "\n"
     ]
    },
    {
     "ename": "UFuncTypeError",
     "evalue": "ufunc 'add' did not contain a loop with signature matching types (dtype('<U13'), dtype('<U13')) -> None",
     "output_type": "error",
     "traceback": [
      "\u001b[0;31m---------------------------------------------------------------------------\u001b[0m",
      "\u001b[0;31mUFuncTypeError\u001b[0m                            Traceback (most recent call last)",
      "Cell \u001b[0;32mIn[2], line 76\u001b[0m\n\u001b[1;32m     67\u001b[0m     CFG\u001b[38;5;241m.\u001b[39min_channels \u001b[38;5;241m=\u001b[39m \u001b[38;5;241m2\u001b[39m\n\u001b[1;32m     68\u001b[0m \u001b[38;5;28mprint\u001b[39m(\u001b[38;5;124mf\u001b[39m\u001b[38;5;124m'\u001b[39m\u001b[38;5;124m##########################\u001b[39m\u001b[38;5;130;01m\\n\u001b[39;00m\u001b[38;5;124mTraining with \u001b[39m\u001b[38;5;130;01m\\\u001b[39;00m\n\u001b[1;32m     69\u001b[0m \u001b[38;5;124m    epochs \u001b[39m\u001b[38;5;132;01m{\u001b[39;00mepochs\u001b[38;5;132;01m}\u001b[39;00m\u001b[38;5;124m, \u001b[39m\u001b[38;5;130;01m\\\u001b[39;00m\n\u001b[1;32m     70\u001b[0m \u001b[38;5;124m    scheduler \u001b[39m\u001b[38;5;132;01m{\u001b[39;00mscheduler\u001b[38;5;132;01m}\u001b[39;00m\u001b[38;5;124m, \u001b[39m\u001b[38;5;130;01m\\\u001b[39;00m\n\u001b[0;32m   (...)\u001b[0m\n\u001b[1;32m     74\u001b[0m \u001b[38;5;124m    data_type \u001b[39m\u001b[38;5;132;01m{\u001b[39;00mdata_type\u001b[38;5;132;01m}\u001b[39;00m\u001b[38;5;124m, \u001b[39m\u001b[38;5;130;01m\\\u001b[39;00m\n\u001b[1;32m     75\u001b[0m \u001b[38;5;124m    \u001b[39m\u001b[38;5;130;01m\\n\u001b[39;00m\u001b[38;5;124m##########################\u001b[39m\u001b[38;5;130;01m\\n\u001b[39;00m\u001b[38;5;124m'\u001b[39m)\n\u001b[0;32m---> 76\u001b[0m \u001b[43mtrain\u001b[49m\u001b[43m(\u001b[49m\u001b[43mCFG\u001b[49m\u001b[43m)\u001b[49m\n",
      "File \u001b[0;32m/media/latlab/MR/projects/kaggle-hms/src/train.py:171\u001b[0m, in \u001b[0;36mtrain\u001b[0;34m(CFG)\u001b[0m\n\u001b[1;32m    169\u001b[0m         \u001b[38;5;28;01mbreak\u001b[39;00m\n\u001b[1;32m    170\u001b[0m \u001b[38;5;28;01mif\u001b[39;00m CFG\u001b[38;5;241m.\u001b[39muse_wandb:\n\u001b[0;32m--> 171\u001b[0m     wandb\u001b[38;5;241m.\u001b[39mlog({\u001b[38;5;124mf\u001b[39m\u001b[38;5;124m'\u001b[39m\u001b[38;5;124mmean_metric\u001b[39m\u001b[38;5;124m'\u001b[39m: \u001b[43mnp\u001b[49m\u001b[38;5;241;43m.\u001b[39;49m\u001b[43mmean\u001b[49m\u001b[43m(\u001b[49m\u001b[43mmetric_list\u001b[49m\u001b[43m)\u001b[49m})\n\u001b[1;32m    172\u001b[0m     wandb\u001b[38;5;241m.\u001b[39mlog({\u001b[38;5;124mf\u001b[39m\u001b[38;5;124m'\u001b[39m\u001b[38;5;124mmean_best_metric\u001b[39m\u001b[38;5;124m'\u001b[39m: np\u001b[38;5;241m.\u001b[39mmean(best_metric_list)})\n\u001b[1;32m    173\u001b[0m     wandb\u001b[38;5;241m.\u001b[39mfinish()\n",
      "File \u001b[0;32m~/anaconda3/envs/hms/lib/python3.11/site-packages/numpy/core/fromnumeric.py:3504\u001b[0m, in \u001b[0;36mmean\u001b[0;34m(a, axis, dtype, out, keepdims, where)\u001b[0m\n\u001b[1;32m   3501\u001b[0m     \u001b[38;5;28;01melse\u001b[39;00m:\n\u001b[1;32m   3502\u001b[0m         \u001b[38;5;28;01mreturn\u001b[39;00m mean(axis\u001b[38;5;241m=\u001b[39maxis, dtype\u001b[38;5;241m=\u001b[39mdtype, out\u001b[38;5;241m=\u001b[39mout, \u001b[38;5;241m*\u001b[39m\u001b[38;5;241m*\u001b[39mkwargs)\n\u001b[0;32m-> 3504\u001b[0m \u001b[38;5;28;01mreturn\u001b[39;00m \u001b[43m_methods\u001b[49m\u001b[38;5;241;43m.\u001b[39;49m\u001b[43m_mean\u001b[49m\u001b[43m(\u001b[49m\u001b[43ma\u001b[49m\u001b[43m,\u001b[49m\u001b[43m \u001b[49m\u001b[43maxis\u001b[49m\u001b[38;5;241;43m=\u001b[39;49m\u001b[43maxis\u001b[49m\u001b[43m,\u001b[49m\u001b[43m \u001b[49m\u001b[43mdtype\u001b[49m\u001b[38;5;241;43m=\u001b[39;49m\u001b[43mdtype\u001b[49m\u001b[43m,\u001b[49m\n\u001b[1;32m   3505\u001b[0m \u001b[43m                      \u001b[49m\u001b[43mout\u001b[49m\u001b[38;5;241;43m=\u001b[39;49m\u001b[43mout\u001b[49m\u001b[43m,\u001b[49m\u001b[43m \u001b[49m\u001b[38;5;241;43m*\u001b[39;49m\u001b[38;5;241;43m*\u001b[39;49m\u001b[43mkwargs\u001b[49m\u001b[43m)\u001b[49m\n",
      "File \u001b[0;32m~/anaconda3/envs/hms/lib/python3.11/site-packages/numpy/core/_methods.py:118\u001b[0m, in \u001b[0;36m_mean\u001b[0;34m(a, axis, dtype, out, keepdims, where)\u001b[0m\n\u001b[1;32m    115\u001b[0m         dtype \u001b[38;5;241m=\u001b[39m mu\u001b[38;5;241m.\u001b[39mdtype(\u001b[38;5;124m'\u001b[39m\u001b[38;5;124mf4\u001b[39m\u001b[38;5;124m'\u001b[39m)\n\u001b[1;32m    116\u001b[0m         is_float16_result \u001b[38;5;241m=\u001b[39m \u001b[38;5;28;01mTrue\u001b[39;00m\n\u001b[0;32m--> 118\u001b[0m ret \u001b[38;5;241m=\u001b[39m umr_sum(arr, axis, dtype, out, keepdims, where\u001b[38;5;241m=\u001b[39mwhere)\n\u001b[1;32m    119\u001b[0m \u001b[38;5;28;01mif\u001b[39;00m \u001b[38;5;28misinstance\u001b[39m(ret, mu\u001b[38;5;241m.\u001b[39mndarray):\n\u001b[1;32m    120\u001b[0m     \u001b[38;5;28;01mwith\u001b[39;00m _no_nep50_warning():\n",
      "\u001b[0;31mUFuncTypeError\u001b[0m: ufunc 'add' did not contain a loop with signature matching types (dtype('<U13'), dtype('<U13')) -> None"
     ]
    }
   ],
   "source": [
    "from train import train\n",
    "from config import Config\n",
    "\n",
    "class CFG(Config):\n",
    "    seed = 42\n",
    "    cv_fold = 5\n",
    "    base_model = 'efficientnet_b0'   # resnet18/34/50, efficientnet_b0/b1/b2/b3/b4, efficientnet_v2_s, convnext_tiny, swin_t\n",
    "    batch_size = 32\n",
    "    epochs = 3\n",
    "    base_lr = 1e-3\n",
    "    affine_degrees = 0\n",
    "    affine_translate = None\n",
    "    affine_scale = None\n",
    "    dataloader_num_workers = 8\n",
    "    scheduler_step_size = 2\n",
    "    optimizer = 'AdamW'\n",
    "    scheduler = 'StepLR'\n",
    "    loss = 'KLDivLoss'\n",
    "    lr_gamma = 0.1\n",
    "    sgd_momentum = 0.9\n",
    "    color_jitter_args = dict(p=0.0, brightness=0.2, contrast=0.2, saturation=0.2, hue=0.2)\n",
    "    random_erasing_p = 0\n",
    "    freeze_epochs = 0\n",
    "    spec_trial_selection = 'all' # 'all', 'first', 'mean_offset'\n",
    "    eeg_trial_selection = 'first' # 'all', 'first', 'mean_offset'\n",
    "    spec_random_trial_num = 1\n",
    "    eeg_random_trial_num = 1\n",
    "    TARGETS = ['seizure_vote', 'lpd_vote', 'gpd_vote', 'lrda_vote', 'grda_vote', 'other_vote']\n",
    "    coarse_dropout_args = dict(p=0.5, max_holes=8, max_height=128, max_width=128)\n",
    "    data_type = 'eeg_tf'  # 'spec', 'eeg_tf', 'spec+eeg_tf\n",
    "    eeg_tf_data = 'eeg_tf_data_globalnorm'\n",
    "    pretrained = True\n",
    "\n",
    "    if data_type == 'spec':\n",
    "        in_channels = 1\n",
    "    elif data_type == 'eeg_tf':\n",
    "        in_channels = 1\n",
    "    elif data_type == 'spec+eeg_tf':\n",
    "        in_channels = 2\n",
    "\n",
    "    train_final_model = False\n",
    "\n",
    "\n",
    "for scheduler in ['StepLR']:\n",
    "    CFG.scheduler = scheduler\n",
    "    for epochs in [3]:\n",
    "        CFG.epochs = epochs\n",
    "        for eeg_tf_data in ['eeg_tf_data_globalnorm']:\n",
    "            CFG.eeg_tf_data = eeg_tf_data\n",
    "            for base_model in ['efficientnet_b0']:\n",
    "                CFG.base_model = base_model\n",
    "                for coarse_dropout_args in [dict(p=0.5, max_holes=8, max_height=128, max_width=128)]:\n",
    "                    CFG.coarse_dropout_args = coarse_dropout_args\n",
    "                    for batch_size in [32]:\n",
    "                        CFG.batch_size = batch_size\n",
    "                        for eeg_trial_selection in ['first']:\n",
    "                            CFG.eeg_trial_selection = eeg_trial_selection\n",
    "                            for eeg_random_trial_num in [1]:\n",
    "                                CFG.eeg_random_trial_num = eeg_random_trial_num\n",
    "                                for data_type in ['eeg_tf']:\n",
    "                                    CFG.data_type = data_type\n",
    "                                    if data_type == 'spec':\n",
    "                                        CFG.in_channels = 1\n",
    "                                    elif data_type == 'eeg_tf':\n",
    "                                        CFG.in_channels = 1\n",
    "                                    elif data_type == 'spec+eeg_tf':\n",
    "                                        CFG.in_channels = 2\n",
    "                                    print(f'##########################\\nTraining with \\\n",
    "                                        epochs {epochs}, \\\n",
    "                                        scheduler {scheduler}, \\\n",
    "                                        base_model: {base_model}, \\\n",
    "                                        eeg_tf_fname {eeg_tf_data}, \\\n",
    "                                        coarse_dropout_args: {coarse_dropout_args} \\\n",
    "                                        data_type {data_type}, \\\n",
    "                                        \\n##########################\\n')\n",
    "                                    train(CFG)"
   ]
  }
 ],
 "metadata": {
  "kernelspec": {
   "display_name": "hms",
   "language": "python",
   "name": "python3"
  },
  "language_info": {
   "codemirror_mode": {
    "name": "ipython",
    "version": 3
   },
   "file_extension": ".py",
   "mimetype": "text/x-python",
   "name": "python",
   "nbconvert_exporter": "python",
   "pygments_lexer": "ipython3",
   "version": "3.11.7"
  }
 },
 "nbformat": 4,
 "nbformat_minor": 2
}
