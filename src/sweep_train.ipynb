{
 "cells": [
  {
   "cell_type": "code",
   "execution_count": 1,
   "metadata": {},
   "outputs": [
    {
     "ename": "AttributeError",
     "evalue": "'dict' object has no attribute 'spec_trial_selection'",
     "output_type": "error",
     "traceback": [
      "\u001b[0;31m---------------------------------------------------------------------------\u001b[0m",
      "\u001b[0;31mAttributeError\u001b[0m                            Traceback (most recent call last)",
      "Cell \u001b[0;32mIn[1], line 39\u001b[0m\n\u001b[1;32m     37\u001b[0m CFG[\u001b[38;5;124m'\u001b[39m\u001b[38;5;124mscheduler\u001b[39m\u001b[38;5;124m'\u001b[39m] \u001b[38;5;241m=\u001b[39m scheduler\n\u001b[1;32m     38\u001b[0m \u001b[38;5;28;01mfor\u001b[39;00m spec_trial_selection \u001b[38;5;129;01min\u001b[39;00m [\u001b[38;5;124m'\u001b[39m\u001b[38;5;124mmean_offset\u001b[39m\u001b[38;5;124m'\u001b[39m, \u001b[38;5;124m'\u001b[39m\u001b[38;5;124mall\u001b[39m\u001b[38;5;124m'\u001b[39m]:\n\u001b[0;32m---> 39\u001b[0m     \u001b[43mCFG\u001b[49m\u001b[38;5;241;43m.\u001b[39;49m\u001b[43mspec_trial_selection\u001b[49m \u001b[38;5;241m=\u001b[39m spec_trial_selection\n\u001b[1;32m     40\u001b[0m     \u001b[38;5;28mprint\u001b[39m(\u001b[38;5;124mf\u001b[39m\u001b[38;5;124m'\u001b[39m\u001b[38;5;124m##########################\u001b[39m\u001b[38;5;130;01m\\n\u001b[39;00m\u001b[38;5;124mTraining with epochs \u001b[39m\u001b[38;5;132;01m{\u001b[39;00mepochs\u001b[38;5;132;01m}\u001b[39;00m\u001b[38;5;124m, scheduler \u001b[39m\u001b[38;5;132;01m{\u001b[39;00mscheduler\u001b[38;5;132;01m}\u001b[39;00m\u001b[38;5;124m, base_model: \u001b[39m\u001b[38;5;132;01m{\u001b[39;00mbase_model\u001b[38;5;132;01m}\u001b[39;00m\u001b[38;5;124m, spec_trial_selection: \u001b[39m\u001b[38;5;132;01m{\u001b[39;00mspec_trial_selection\u001b[38;5;132;01m}\u001b[39;00m\u001b[38;5;130;01m\\n\u001b[39;00m\u001b[38;5;124m##########################\u001b[39m\u001b[38;5;130;01m\\n\u001b[39;00m\u001b[38;5;124m'\u001b[39m)\n\u001b[1;32m     41\u001b[0m     train(CFG, tags\u001b[38;5;241m=\u001b[39mtags, notes\u001b[38;5;241m=\u001b[39mnotes, train_final_model\u001b[38;5;241m=\u001b[39mtrain_final_model, use_wandb\u001b[38;5;241m=\u001b[39muse_wandb, one_fold\u001b[38;5;241m=\u001b[39mone_fold)\n",
      "\u001b[0;31mAttributeError\u001b[0m: 'dict' object has no attribute 'spec_trial_selection'"
     ]
    }
   ],
   "source": [
    "from train import train\n",
    "\n",
    "CFG = { # TODO: make it a class\n",
    "    'seed': 42,\n",
    "    'cv_fold': 5,\n",
    "    'base_model': 'resnet34',   # resnet18/34/50, efficientnet_b0/b1/b2/b3/b4, efficientnet_v2_s, convnext_tiny, swin_t\n",
    "    'batch_size': 32,\n",
    "    'epochs': 3,\n",
    "    'base_lr': 1e-3,\n",
    "    'affine_degrees': 0,\n",
    "    'affine_translate': None,\n",
    "    'affine_scale': None,\n",
    "    'dataloader_num_workers': 8,\n",
    "    'scheduler_step_size': 2,\n",
    "    'optimizer': 'AdamW',\n",
    "    'scheduler': 'StepLR',\n",
    "    'loss': 'KLDivLoss',\n",
    "    'lr_gamma': 0.1,\n",
    "    'sgd_momentum': 0.9,\n",
    "    'color_jitter': {'brightness': 0, 'contrast': 0, 'saturation': 0, 'hue': 0},\n",
    "    'random_erasing_p': 0,\n",
    "    'freeze_epochs': 0,\n",
    "    'in_channels': 1\n",
    "}\n",
    "\n",
    "tags=['torch', 'cv', 'best_epoch']\n",
    "notes = ''\n",
    "train_final_model = True\n",
    "use_wandb = True\n",
    "one_fold = False\n",
    "\n",
    "for base_model in ['resnet34']:\n",
    "    CFG['base_model'] = base_model\n",
    "    for epochs in [3, 4]:\n",
    "        CFG['epochs'] = epochs\n",
    "        for scheduler in ['StepLR', 'CosineAnnealingLR', 'OneCycleLR']:\n",
    "            CFG['scheduler'] = scheduler\n",
    "            for spec_trial_selection in ['mean_offset', 'all']:\n",
    "                CFG['spec_trial_selection'] = spec_trial_selection\n",
    "                print(f'##########################\\nTraining with epochs {epochs}, scheduler {scheduler}, base_model: {base_model}, spec_trial_selection: {spec_trial_selection}\\n##########################\\n')\n",
    "                train(CFG, tags=tags, notes=notes, train_final_model=train_final_model, use_wandb=use_wandb, one_fold=one_fold)"
   ]
  },
  {
   "cell_type": "code",
   "execution_count": null,
   "metadata": {},
   "outputs": [],
   "source": [
    "# for base_model in ['resnet34']:\n",
    "#     CFG['base_model'] = base_model\n",
    "#     for epochs in [3, 4]:\n",
    "#         CFG['epochs'] = epochs\n",
    "#         for scheduler in ['StepLR', 'CosineAnnealingLR', 'OneCycleLR']:\n",
    "#             CFG['scheduler'] = scheduler\n",
    "#             print(f'##########################\\nTraining with epochs {epochs}, scheduler {scheduler}, base_model: {base_model}\\n##########################\\n')\n",
    "#             train(CFG, tags=tags, notes=notes, train_final_model=train_final_model, use_wandb=use_wandb, one_fold=one_fold)"
   ]
  }
 ],
 "metadata": {
  "kernelspec": {
   "display_name": "hms",
   "language": "python",
   "name": "python3"
  },
  "language_info": {
   "codemirror_mode": {
    "name": "ipython",
    "version": 3
   },
   "file_extension": ".py",
   "mimetype": "text/x-python",
   "name": "python",
   "nbconvert_exporter": "python",
   "pygments_lexer": "ipython3",
   "version": "3.11.7"
  }
 },
 "nbformat": 4,
 "nbformat_minor": 2
}
