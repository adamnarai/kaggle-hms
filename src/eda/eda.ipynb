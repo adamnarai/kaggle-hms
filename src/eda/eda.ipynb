{
 "cells": [
  {
   "cell_type": "code",
   "execution_count": null,
   "metadata": {},
   "outputs": [],
   "source": [
    "import os\n",
    "import pandas as pd\n",
    "from matplotlib import pyplot as plt\n",
    "\n",
    "# Params\n",
    "TARGETS = ['seizure_vote', 'lpd_vote', 'gpd_vote', 'lrda_vote', 'grda_vote', 'other_vote']\n",
    "\n",
    "# Paths\n",
    "root = '/media/latlab/MR/projects/kaggle-hms'\n",
    "data_dir = os.path.join(root, 'data')\n",
    "results_dir = os.path.join(root, 'results')\n",
    "train_eeg_dir = os.path.join(data_dir, 'train_eegs')\n",
    "train_spectrogram_dir = os.path.join(data_dir, 'train_spectrograms')\n",
    "\n",
    "# Load data\n",
    "df = pd.read_csv(os.path.join(data_dir, 'train.csv'))\n",
    "\n",
    "# Normalize votes (for each instance)\n",
    "y_data = df[TARGETS].values\n",
    "y_data = y_data / y_data.sum(axis=1, keepdims=True)\n",
    "df[TARGETS] = y_data\n",
    "\n",
    "# Print number of patients\n",
    "print('Number of patients: {}'.format(len(df['patient_id'].unique())))\n",
    "\n",
    "df"
   ]
  },
  {
   "cell_type": "code",
   "execution_count": null,
   "metadata": {},
   "outputs": [],
   "source": [
    "train = df.groupby('eeg_id')[['spectrogram_id','spectrogram_label_offset_seconds']].agg(\n",
    "    {'spectrogram_id':'first','spectrogram_label_offset_seconds':'min'})\n",
    "train.columns = ['spec_id','min']\n",
    "\n",
    "tmp = df.groupby('eeg_id')[['spectrogram_id','spectrogram_label_offset_seconds']].agg(\n",
    "    {'spectrogram_label_offset_seconds':'max'})\n",
    "train['max'] = tmp\n",
    "\n",
    "tmp = df.groupby('eeg_id')[['patient_id']].agg('first')\n",
    "train['patient_id'] = tmp\n",
    "\n",
    "tmp = df.groupby('eeg_id')[TARGETS].agg('sum')\n",
    "for t in TARGETS:\n",
    "    train[t] = tmp[t].values\n",
    "    \n",
    "y_data = train[TARGETS].values\n",
    "y_data = y_data / y_data.sum(axis=1,keepdims=True)\n",
    "train[TARGETS] = y_data\n",
    "\n",
    "tmp = df.groupby('eeg_id')[['expert_consensus']].agg('first')\n",
    "train['target'] = tmp\n",
    "\n",
    "train = train.reset_index()\n",
    "print('Train non-overlapp eeg_id shape:', train.shape )\n",
    "train.head()"
   ]
  },
  {
   "cell_type": "code",
   "execution_count": null,
   "metadata": {},
   "outputs": [],
   "source": [
    "# Get one EEG data\n",
    "eeg_idx = 0\n",
    "eeg_id = df['eeg_id'].unique()[eeg_idx]\n",
    "\n",
    "# Load parquet EEG data\n",
    "eeg_path = os.path.join(train_eeg_dir, f'{eeg_id}.parquet')\n",
    "eeg = pd.read_parquet(eeg_path)\n",
    "\n",
    "# Print EEG length on 200 Hz\n",
    "print('EEG length: {} s'.format(len(eeg) / 200))\n",
    "eeg\n"
   ]
  },
  {
   "cell_type": "code",
   "execution_count": null,
   "metadata": {},
   "outputs": [],
   "source": [
    "# Get one EEG data\n",
    "spectrogram_idx = 0\n",
    "spectrogram_id = df['spectrogram_id'].unique()[spectrogram_idx]\n",
    "\n",
    "# Load parquet EEG data\n",
    "spectrogram_path = os.path.join(train_spectrogram_dir, f'{spectrogram_id}.parquet')\n",
    "spectrogram = pd.read_parquet(spectrogram_path)\n",
    "spectrogram"
   ]
  },
  {
   "cell_type": "code",
   "execution_count": null,
   "metadata": {},
   "outputs": [],
   "source": [
    "spectrogram.columns"
   ]
  }
 ],
 "metadata": {
  "kernelspec": {
   "display_name": "hms",
   "language": "python",
   "name": "python3"
  },
  "language_info": {
   "codemirror_mode": {
    "name": "ipython",
    "version": 3
   },
   "file_extension": ".py",
   "mimetype": "text/x-python",
   "name": "python",
   "nbconvert_exporter": "python",
   "pygments_lexer": "ipython3",
   "version": "3.12.2"
  }
 },
 "nbformat": 4,
 "nbformat_minor": 2
}
