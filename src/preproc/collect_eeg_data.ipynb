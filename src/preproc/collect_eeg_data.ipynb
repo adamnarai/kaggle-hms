{
 "cells": [
  {
   "cell_type": "code",
   "execution_count": null,
   "metadata": {},
   "outputs": [],
   "source": [
    "# Collect eeg data into one file\n",
    "\n",
    "import os\n",
    "import pandas as pd\n",
    "import numpy as np\n",
    "from matplotlib import pyplot as plt\n",
    "from tqdm import tqdm\n",
    "\n",
    "# Paths\n",
    "root = '/media/latlab/MR/projects/kaggle-hms'\n",
    "data_dir = os.path.join(root, 'data')\n",
    "results_dir = os.path.join(root, 'results')\n",
    "train_eeg_dir = os.path.join(data_dir, 'train_eegs')\n",
    "train_spec_dir = os.path.join(data_dir, 'train_spectrograms')\n",
    "\n",
    "# Load data\n",
    "df = pd.read_csv(os.path.join(data_dir, 'train.csv'))\n",
    "df"
   ]
  },
  {
   "cell_type": "code",
   "execution_count": null,
   "metadata": {},
   "outputs": [],
   "source": [
    "%%time\n",
    "ch_list = ['Fp1', 'F3', 'C3', 'P3', 'F7', 'T3', 'T5', 'O1', 'Fz', 'Cz', 'Pz', 'Fp2', 'F4', 'C4', 'P4', 'F8', 'T4', 'T6', 'O2', 'EKG']\n",
    "\n",
    "eeg_data = dict()\n",
    "for eeg_id in tqdm(df['eeg_id'].unique()):\n",
    "    eeg_path = os.path.join(train_eeg_dir, f'{eeg_id}.parquet')\n",
    "    curr_eeg_data = pd.read_parquet(eeg_path)\n",
    "\n",
    "    assert (curr_eeg_data.columns == ch_list).all()\n",
    "    \n",
    "    curr_eeg_data = curr_eeg_data.to_numpy()\n",
    "    eeg_data[eeg_id] = curr_eeg_data"
   ]
  },
  {
   "cell_type": "code",
   "execution_count": null,
   "metadata": {},
   "outputs": [],
   "source": [
    "np.save(os.path.join(data_dir, 'eeg_data.npy'), eeg_data)"
   ]
  },
  {
   "cell_type": "code",
   "execution_count": 2,
   "metadata": {},
   "outputs": [],
   "source": [
    "%%time\n",
    "test_data = np.load(os.path.join(data_dir, 'eeg_data.npy'), allow_pickle=True).item()"
   ]
  }
 ],
 "metadata": {
  "kernelspec": {
   "display_name": "hms",
   "language": "python",
   "name": "python3"
  },
  "language_info": {
   "codemirror_mode": {
    "name": "ipython",
    "version": 3
   },
   "file_extension": ".py",
   "mimetype": "text/x-python",
   "name": "python",
   "nbconvert_exporter": "python",
   "pygments_lexer": "ipython3",
   "version": "3.12.2"
  }
 },
 "nbformat": 4,
 "nbformat_minor": 2
}
