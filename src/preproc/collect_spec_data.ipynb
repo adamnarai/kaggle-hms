{
 "cells": [
  {
   "cell_type": "code",
   "execution_count": null,
   "metadata": {},
   "outputs": [],
   "source": [
    "# Collect spec data into one file\n",
    "\n",
    "import os\n",
    "import pandas as pd\n",
    "import numpy as np\n",
    "from matplotlib import pyplot as plt\n",
    "from tqdm import tqdm\n",
    "\n",
    "# Paths\n",
    "root = '/media/latlab/MR/projects/kaggle-hms'\n",
    "data_dir = os.path.join(root, 'data')\n",
    "results_dir = os.path.join(root, 'results')\n",
    "train_eeg_dir = os.path.join(data_dir, 'train_eegs')\n",
    "train_spec_dir = os.path.join(data_dir, 'train_spectrograms')\n",
    "\n",
    "# Load data\n",
    "df = pd.read_csv(os.path.join(data_dir, 'train.csv'))\n",
    "df"
   ]
  },
  {
   "cell_type": "code",
   "execution_count": null,
   "metadata": {},
   "outputs": [],
   "source": [
    "%%time\n",
    "time_str_list = [\n",
    "    '_0.59', '_0.78', '_0.98', '_1.17', '_1.37', '_1.56', '_1.76', '_1.95', '_2.15', '_2.34', '_2.54', '_2.73', '_2.93', '_3.13', '_3.32', \n",
    "    '_3.52', '_3.71', '_3.91', '_4.1', '_4.3', '_4.49', '_4.69', '_4.88', '_5.08', '_5.27', '_5.47', '_5.66', '_5.86', '_6.05', '_6.25', \n",
    "    '_6.45', '_6.64', '_6.84', '_7.03', '_7.23', '_7.42', '_7.62', '_7.81', '_8.01', '_8.2', '_8.4', '_8.59', '_8.79', '_8.98', '_9.18', \n",
    "    '_9.38', '_9.57', '_9.77', '_9.96', '_10.16', '_10.35', '_10.55', '_10.74', '_10.94', '_11.13', '_11.33', '_11.52', '_11.72', '_11.91', \n",
    "    '_12.11', '_12.3', '_12.5', '_12.7', '_12.89', '_13.09', '_13.28', '_13.48', '_13.67', '_13.87', '_14.06', '_14.26', '_14.45', '_14.65', \n",
    "    '_14.84', '_15.04', '_15.23', '_15.43', '_15.63', '_15.82', '_16.02', '_16.21', '_16.41', '_16.6', '_16.8', '_16.99', '_17.19', '_17.38', \n",
    "    '_17.58', '_17.77', '_17.97', '_18.16', '_18.36', '_18.55', '_18.75', '_18.95', '_19.14', '_19.34', '_19.53', '_19.73', '_19.92']\n",
    "col_str_list = ['LL' + x for x in time_str_list] + ['RL' + x for x in time_str_list] + ['LP' + x for x in time_str_list] + ['RP' + x for x in time_str_list]\n",
    "\n",
    "spec_data = dict()\n",
    "for spec_id in tqdm(df['spectrogram_id'].unique()):\n",
    "    spec_path = os.path.join(train_spec_dir, f'{spec_id}.parquet')\n",
    "    curr_spec_data = pd.read_parquet(spec_path)\n",
    "\n",
    "    assert curr_spec_data['time'][0] == 1\n",
    "    assert (curr_spec_data['time'].diff()[1:] == 2.0).all()\n",
    "    assert (curr_spec_data.columns[1:] == col_str_list).all()\n",
    "    \n",
    "    curr_spec_data = curr_spec_data.drop(columns=['time']).to_numpy()\n",
    "    spec_data[spec_id] = curr_spec_data\n"
   ]
  },
  {
   "cell_type": "code",
   "execution_count": null,
   "metadata": {},
   "outputs": [],
   "source": [
    "np.save(os.path.join(data_dir, 'spec_data.npy'), spec_data)"
   ]
  },
  {
   "cell_type": "code",
   "execution_count": null,
   "metadata": {},
   "outputs": [],
   "source": [
    "%%time\n",
    "test_data = np.load(os.path.join(data_dir, 'spec_data.npy'), allow_pickle=True).item()"
   ]
  }
 ],
 "metadata": {
  "kernelspec": {
   "display_name": "hms",
   "language": "python",
   "name": "python3"
  },
  "language_info": {
   "codemirror_mode": {
    "name": "ipython",
    "version": 3
   },
   "file_extension": ".py",
   "mimetype": "text/x-python",
   "name": "python",
   "nbconvert_exporter": "python",
   "pygments_lexer": "ipython3",
   "version": "3.11.7"
  }
 },
 "nbformat": 4,
 "nbformat_minor": 2
}
